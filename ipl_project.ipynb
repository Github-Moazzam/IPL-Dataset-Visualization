{
 "cells": [
  {
   "cell_type": "markdown",
   "id": "eea7650f",
   "metadata": {},
   "source": [
    "## Loading Libraries & Dataset"
   ]
  },
  {
   "cell_type": "code",
   "execution_count": 217,
   "id": "a3e958f6",
   "metadata": {},
   "outputs": [
    {
     "data": {
      "text/html": [
       "<div>\n",
       "<style scoped>\n",
       "    .dataframe tbody tr th:only-of-type {\n",
       "        vertical-align: middle;\n",
       "    }\n",
       "\n",
       "    .dataframe tbody tr th {\n",
       "        vertical-align: top;\n",
       "    }\n",
       "\n",
       "    .dataframe thead th {\n",
       "        text-align: right;\n",
       "    }\n",
       "</style>\n",
       "<table border=\"1\" class=\"dataframe\">\n",
       "  <thead>\n",
       "    <tr style=\"text-align: right;\">\n",
       "      <th></th>\n",
       "      <th>match_id</th>\n",
       "      <th>date</th>\n",
       "      <th>venue</th>\n",
       "      <th>team1</th>\n",
       "      <th>team2</th>\n",
       "      <th>stage</th>\n",
       "      <th>toss_winner</th>\n",
       "      <th>toss_decision</th>\n",
       "      <th>first_ings_score</th>\n",
       "      <th>first_ings_wkts</th>\n",
       "      <th>second_ings_score</th>\n",
       "      <th>second_ings_wkts</th>\n",
       "      <th>match_winner</th>\n",
       "      <th>won_by</th>\n",
       "      <th>margin</th>\n",
       "      <th>player_of_the_match</th>\n",
       "      <th>top_scorer</th>\n",
       "      <th>highscore</th>\n",
       "      <th>best_bowling</th>\n",
       "      <th>best_bowling_figure</th>\n",
       "    </tr>\n",
       "  </thead>\n",
       "  <tbody>\n",
       "    <tr>\n",
       "      <th>0</th>\n",
       "      <td>1</td>\n",
       "      <td>March 26,2022</td>\n",
       "      <td>Wankhede Stadium, Mumbai</td>\n",
       "      <td>Chennai</td>\n",
       "      <td>Kolkata</td>\n",
       "      <td>Group</td>\n",
       "      <td>Kolkata</td>\n",
       "      <td>Field</td>\n",
       "      <td>131</td>\n",
       "      <td>5</td>\n",
       "      <td>133</td>\n",
       "      <td>4</td>\n",
       "      <td>Kolkata</td>\n",
       "      <td>Wickets</td>\n",
       "      <td>6</td>\n",
       "      <td>Umesh Yadav</td>\n",
       "      <td>MS Dhoni</td>\n",
       "      <td>50</td>\n",
       "      <td>Dwayne Bravo</td>\n",
       "      <td>3--20</td>\n",
       "    </tr>\n",
       "    <tr>\n",
       "      <th>1</th>\n",
       "      <td>2</td>\n",
       "      <td>March 27,2022</td>\n",
       "      <td>Brabourne Stadium, Mumbai</td>\n",
       "      <td>Delhi</td>\n",
       "      <td>Mumbai</td>\n",
       "      <td>Group</td>\n",
       "      <td>Delhi</td>\n",
       "      <td>Field</td>\n",
       "      <td>177</td>\n",
       "      <td>5</td>\n",
       "      <td>179</td>\n",
       "      <td>6</td>\n",
       "      <td>Delhi</td>\n",
       "      <td>Wickets</td>\n",
       "      <td>4</td>\n",
       "      <td>Kuldeep Yadav</td>\n",
       "      <td>Ishan Kishan</td>\n",
       "      <td>81</td>\n",
       "      <td>Kuldeep Yadav</td>\n",
       "      <td>3--18</td>\n",
       "    </tr>\n",
       "    <tr>\n",
       "      <th>2</th>\n",
       "      <td>3</td>\n",
       "      <td>March 27,2022</td>\n",
       "      <td>Dr DY Patil Sports Academy, Mumbai</td>\n",
       "      <td>Banglore</td>\n",
       "      <td>Punjab</td>\n",
       "      <td>Group</td>\n",
       "      <td>Punjab</td>\n",
       "      <td>Field</td>\n",
       "      <td>205</td>\n",
       "      <td>2</td>\n",
       "      <td>208</td>\n",
       "      <td>5</td>\n",
       "      <td>Punjab</td>\n",
       "      <td>Wickets</td>\n",
       "      <td>5</td>\n",
       "      <td>Odean Smith</td>\n",
       "      <td>Faf du Plessis</td>\n",
       "      <td>88</td>\n",
       "      <td>Mohammed Siraj</td>\n",
       "      <td>2--59</td>\n",
       "    </tr>\n",
       "    <tr>\n",
       "      <th>3</th>\n",
       "      <td>4</td>\n",
       "      <td>March 28,2022</td>\n",
       "      <td>Wankhede Stadium, Mumbai</td>\n",
       "      <td>Gujarat</td>\n",
       "      <td>Lucknow</td>\n",
       "      <td>Group</td>\n",
       "      <td>Gujarat</td>\n",
       "      <td>Field</td>\n",
       "      <td>158</td>\n",
       "      <td>6</td>\n",
       "      <td>161</td>\n",
       "      <td>5</td>\n",
       "      <td>Gujarat</td>\n",
       "      <td>Wickets</td>\n",
       "      <td>5</td>\n",
       "      <td>Mohammed Shami</td>\n",
       "      <td>Deepak Hooda</td>\n",
       "      <td>55</td>\n",
       "      <td>Mohammed Shami</td>\n",
       "      <td>3--25</td>\n",
       "    </tr>\n",
       "    <tr>\n",
       "      <th>4</th>\n",
       "      <td>5</td>\n",
       "      <td>March 29,2022</td>\n",
       "      <td>Maharashtra Cricket Association Stadium,Pune</td>\n",
       "      <td>Hyderabad</td>\n",
       "      <td>Rajasthan</td>\n",
       "      <td>Group</td>\n",
       "      <td>Hyderabad</td>\n",
       "      <td>Field</td>\n",
       "      <td>210</td>\n",
       "      <td>6</td>\n",
       "      <td>149</td>\n",
       "      <td>7</td>\n",
       "      <td>Rajasthan</td>\n",
       "      <td>Runs</td>\n",
       "      <td>61</td>\n",
       "      <td>Sanju Samson</td>\n",
       "      <td>Aiden Markram</td>\n",
       "      <td>57</td>\n",
       "      <td>Yuzvendra Chahal</td>\n",
       "      <td>3--22</td>\n",
       "    </tr>\n",
       "  </tbody>\n",
       "</table>\n",
       "</div>"
      ],
      "text/plain": [
       "   match_id           date                                         venue  \\\n",
       "0         1  March 26,2022                      Wankhede Stadium, Mumbai   \n",
       "1         2  March 27,2022                     Brabourne Stadium, Mumbai   \n",
       "2         3  March 27,2022            Dr DY Patil Sports Academy, Mumbai   \n",
       "3         4  March 28,2022                      Wankhede Stadium, Mumbai   \n",
       "4         5  March 29,2022  Maharashtra Cricket Association Stadium,Pune   \n",
       "\n",
       "       team1      team2  stage toss_winner toss_decision  first_ings_score  \\\n",
       "0    Chennai    Kolkata  Group     Kolkata         Field               131   \n",
       "1      Delhi     Mumbai  Group       Delhi         Field               177   \n",
       "2   Banglore     Punjab  Group      Punjab         Field               205   \n",
       "3    Gujarat    Lucknow  Group     Gujarat         Field               158   \n",
       "4  Hyderabad  Rajasthan  Group   Hyderabad         Field               210   \n",
       "\n",
       "   first_ings_wkts  second_ings_score  second_ings_wkts match_winner   won_by  \\\n",
       "0                5                133                 4      Kolkata  Wickets   \n",
       "1                5                179                 6        Delhi  Wickets   \n",
       "2                2                208                 5       Punjab  Wickets   \n",
       "3                6                161                 5      Gujarat  Wickets   \n",
       "4                6                149                 7    Rajasthan     Runs   \n",
       "\n",
       "   margin player_of_the_match      top_scorer  highscore      best_bowling  \\\n",
       "0       6         Umesh Yadav        MS Dhoni         50      Dwayne Bravo   \n",
       "1       4       Kuldeep Yadav    Ishan Kishan         81     Kuldeep Yadav   \n",
       "2       5         Odean Smith  Faf du Plessis         88    Mohammed Siraj   \n",
       "3       5      Mohammed Shami    Deepak Hooda         55    Mohammed Shami   \n",
       "4      61        Sanju Samson   Aiden Markram         57  Yuzvendra Chahal   \n",
       "\n",
       "  best_bowling_figure  \n",
       "0               3--20  \n",
       "1               3--18  \n",
       "2               2--59  \n",
       "3               3--25  \n",
       "4               3--22  "
      ]
     },
     "execution_count": 217,
     "metadata": {},
     "output_type": "execute_result"
    }
   ],
   "source": [
    "import numpy as np\n",
    "import pandas as pd\n",
    "import matplotlib.pyplot as plt\n",
    "import seaborn as sb\n",
    "import warnings \n",
    "warnings.filterwarnings(\"ignore\")\n",
    "\n",
    "ipl = pd.read_csv(\"IPL.csv\")\n",
    "ipl.head()\n"
   ]
  },
  {
   "cell_type": "markdown",
   "id": "6c6da976",
   "metadata": {},
   "source": [
    "## Basic Information"
   ]
  },
  {
   "cell_type": "markdown",
   "id": "a37411d5",
   "metadata": {},
   "source": [
    "### Check the size & column of the Dataset"
   ]
  },
  {
   "cell_type": "code",
   "execution_count": 221,
   "id": "deafb10c",
   "metadata": {},
   "outputs": [
    {
     "name": "stdout",
     "output_type": "stream",
     "text": [
      "No. of Rows: 74\n",
      "No. of Columns: 20\n",
      "-----------INFO------------\n",
      "<class 'pandas.core.frame.DataFrame'>\n",
      "RangeIndex: 74 entries, 0 to 73\n",
      "Data columns (total 20 columns):\n",
      " #   Column               Non-Null Count  Dtype \n",
      "---  ------               --------------  ----- \n",
      " 0   match_id             74 non-null     int64 \n",
      " 1   date                 74 non-null     object\n",
      " 2   venue                74 non-null     object\n",
      " 3   team1                74 non-null     object\n",
      " 4   team2                74 non-null     object\n",
      " 5   stage                74 non-null     object\n",
      " 6   toss_winner          74 non-null     object\n",
      " 7   toss_decision        74 non-null     object\n",
      " 8   first_ings_score     74 non-null     int64 \n",
      " 9   first_ings_wkts      74 non-null     int64 \n",
      " 10  second_ings_score    74 non-null     int64 \n",
      " 11  second_ings_wkts     74 non-null     int64 \n",
      " 12  match_winner         74 non-null     object\n",
      " 13  won_by               74 non-null     object\n",
      " 14  margin               74 non-null     int64 \n",
      " 15  player_of_the_match  74 non-null     object\n",
      " 16  top_scorer           74 non-null     object\n",
      " 17  highscore            74 non-null     int64 \n",
      " 18  best_bowling         74 non-null     object\n",
      " 19  best_bowling_figure  74 non-null     object\n",
      "dtypes: int64(7), object(13)\n",
      "memory usage: 11.7+ KB\n"
     ]
    }
   ],
   "source": [
    "print(\"No. of Rows:\",ipl.shape[0])\n",
    "print(\"No. of Columns:\",ipl.shape[1])\n",
    "print(\"-----------INFO------------\")\n",
    "ipl.info()"
   ]
  },
  {
   "cell_type": "markdown",
   "id": "541b590e",
   "metadata": {},
   "source": [
    "### Now lets see how many columns have null values in total"
   ]
  },
  {
   "cell_type": "code",
   "execution_count": 204,
   "id": "4bd109b7",
   "metadata": {},
   "outputs": [
    {
     "data": {
      "text/plain": [
       "match_id               0\n",
       "date                   0\n",
       "venue                  0\n",
       "team1                  0\n",
       "team2                  0\n",
       "stage                  0\n",
       "toss_winner            0\n",
       "toss_decision          0\n",
       "first_ings_score       0\n",
       "first_ings_wkts        0\n",
       "second_ings_score      0\n",
       "second_ings_wkts       0\n",
       "match_winner           0\n",
       "won_by                 0\n",
       "margin                 0\n",
       "player_of_the_match    0\n",
       "top_scorer             0\n",
       "highscore              0\n",
       "best_bowling           0\n",
       "best_bowling_figure    0\n",
       "dtype: int64"
      ]
     },
     "execution_count": 204,
     "metadata": {},
     "output_type": "execute_result"
    }
   ],
   "source": [
    "ipl.isnull().sum()"
   ]
  },
  {
   "cell_type": "markdown",
   "id": "15e39ee4",
   "metadata": {},
   "source": [
    "## Now here comes some Basic Questions"
   ]
  },
  {
   "cell_type": "markdown",
   "id": "199a617a",
   "metadata": {},
   "source": [
    "#### 1.Which team  won the most matches?"
   ]
  },
  {
   "cell_type": "code",
   "execution_count": 228,
   "id": "52308adc",
   "metadata": {},
   "outputs": [
    {
     "name": "stdout",
     "output_type": "stream",
     "text": [
      "Gujarat\n",
      "12\n"
     ]
    }
   ],
   "source": [
    "xyz = ipl['match_winner'].value_counts()\n",
    "print(xyz.index[0])\n",
    "print(xyz.values[0])"
   ]
  },
  {
   "cell_type": "code",
   "execution_count": 229,
   "id": "df204aaa",
   "metadata": {},
   "outputs": [
    {
     "name": "stdout",
     "output_type": "stream",
     "text": [
      "Team: Gujarat\n",
      "Wins: 12\n"
     ]
    },
    {
     "data": {
      "image/png": "[encoded data removed]",
      "text/plain": [
       "<Figure size 640x480 with 1 Axes>"
      ]
     },
     "metadata": {},
     "output_type": "display_data"
    }
   ],
   "source": [
    "#plotting\n",
    "match_wins = ipl['match_winner'].value_counts()\n",
    "sb.barplot(y = match_wins.index,x = match_wins.values,palette='viridis')\n",
    "plt.title(\"Team  won the most matches\")\n",
    "\n",
    "#printing Data\n",
    "team_max_won =ipl['match_winner'].value_counts().idxmax()\n",
    "no_of_wins =  ipl['match_winner'].value_counts().max()\n",
    "print(f\"Team: {team_max_won}\\nWins: {no_of_wins}\")\n",
    "\n",
    "\n"
   ]
  },
  {
   "cell_type": "markdown",
   "id": "410bfdef",
   "metadata": {},
   "source": [
    "#### 2. Toss Decision Trends"
   ]
  },
  {
   "cell_type": "code",
   "execution_count": 206,
   "id": "4f2ebc4b",
   "metadata": {},
   "outputs": [
    {
     "name": "stdout",
     "output_type": "stream",
     "text": [
      "Choosing Fielding percentage:  79.72972972972973\n",
      "Choosing Batting percentage:  20.27027027027027\n"
     ]
    },
    {
     "data": {
      "text/plain": [
       "Text(0.5, 1.0, 'Toss Decision Trends ')"
      ]
     },
     "execution_count": 206,
     "metadata": {},
     "output_type": "execute_result"
    },
    {
     "data": {
      "image/png": "[encoded data removed]",
      "text/plain": [
       "<Figure size 640x480 with 1 Axes>"
      ]
     },
     "metadata": {},
     "output_type": "display_data"
    }
   ],
   "source": [
    "#printing Data\n",
    "toss = ipl['toss_decision'].value_counts()\n",
    "print(\"Choosing Fielding percentage: \",(toss.Field/(toss.Field + toss.Bat))*100)\n",
    "print(\"Choosing Batting percentage: \",(toss.Bat/(toss.Field + toss.Bat))*100)\n",
    "\n",
    "#plotting\n",
    "sb.countplot(x = ipl['toss_decision'],palette='rainbow')\n",
    "plt.title(\"Toss Decision Trends \")"
   ]
  },
  {
   "cell_type": "markdown",
   "id": "36aa9d2d",
   "metadata": {},
   "source": [
    "#### 3. Toss winner vs Match winner"
   ]
  },
  {
   "cell_type": "code",
   "execution_count": 207,
   "id": "0ba57b79",
   "metadata": {},
   "outputs": [
    {
     "name": "stdout",
     "output_type": "stream",
     "text": [
      "There are '36' Matches Where Teams who won the Toss and the match\n",
      "There are '38' Matches Where Teams who won the Toss but lost the match\n"
     ]
    }
   ],
   "source": [
    "toss_vs_match = ipl[ipl['toss_winner'] == ipl['match_winner']].shape[0]\n",
    "toss_vs_match2 = ipl[ipl['toss_winner'] != ipl['match_winner']].shape[0]\n",
    "print(f\"There are '{toss_vs_match}' Matches Where Teams who won the Toss and the match\")\n",
    "print(f\"There are '{toss_vs_match2}' Matches Where Teams who won the Toss but lost the match\")\n",
    "\n",
    "\n",
    "\n",
    "\n"
   ]
  },
  {
   "cell_type": "markdown",
   "id": "2b8f12be",
   "metadata": {},
   "source": [
    "#### 4. How do team win? (Runs vs Wickets)"
   ]
  },
  {
   "cell_type": "code",
   "execution_count": 208,
   "id": "1050abc8",
   "metadata": {},
   "outputs": [
    {
     "name": "stdout",
     "output_type": "stream",
     "text": [
      "Number of teams won by Runs: 37\n",
      "Number of teams won by Wickets: 37\n"
     ]
    },
    {
     "data": {
      "text/plain": [
       "Text(0.5, 1.0, 'Won by')"
      ]
     },
     "execution_count": 208,
     "metadata": {},
     "output_type": "execute_result"
    },
    {
     "data": {
      "image/png": "[encoded data removed]",
      "text/plain": [
       "<Figure size 640x480 with 1 Axes>"
      ]
     },
     "metadata": {},
     "output_type": "display_data"
    }
   ],
   "source": [
    "won_by_runs = ipl[ipl['won_by'] == \"Runs\"].shape[0]\n",
    "print(f\"Number of teams won by Runs: {won_by_runs}\")\n",
    "\n",
    "won_by_wickets = ipl[ipl['won_by'] == \"Wickets\"].shape[0]\n",
    "print(f\"Number of teams won by Wickets: {won_by_wickets}\")\n",
    "\n",
    "#plotting \n",
    "sb.countplot(x = ipl['won_by'])\n",
    "plt.title(\"Won by\")"
   ]
  },
  {
   "cell_type": "markdown",
   "id": "d83792e5",
   "metadata": {},
   "source": [
    "## Key Player Performance"
   ]
  },
  {
   "cell_type": "markdown",
   "id": "a2da296a",
   "metadata": {},
   "source": [
    "#### 1. Most POTM Awards"
   ]
  },
  {
   "cell_type": "code",
   "execution_count": 237,
   "id": "43f35540",
   "metadata": {},
   "outputs": [
    {
     "data": {
      "text/plain": [
       "Text(0.5, 1.0, 'Top 5 Most MOTM Players')"
      ]
     },
     "execution_count": 237,
     "metadata": {},
     "output_type": "execute_result"
    },
    {
     "data": {
      "image/png": "[encoded data removed]",
      "text/plain": [
       "<Figure size 640x480 with 1 Axes>"
      ]
     },
     "metadata": {},
     "output_type": "display_data"
    }
   ],
   "source": [
    "\n",
    "most_POTM = ipl['player_of_the_match'].value_counts().head()\n",
    "sb.barplot(x = most_POTM.values , y = most_POTM.index)\n",
    "plt.title(\"Top 5 Most MOTM Players\")"
   ]
  },
  {
   "cell_type": "markdown",
   "id": "eb0b92a7",
   "metadata": {},
   "source": [
    "#### 2. Two Top Scorers"
   ]
  },
  {
   "cell_type": "code",
   "execution_count": 231,
   "id": "634b5549",
   "metadata": {},
   "outputs": [
    {
     "name": "stdout",
     "output_type": "stream",
     "text": [
      "top_scorer\n",
      "Jos Buttler        651\n",
      "Quinton de Kock    377\n",
      "Name: highscore, dtype: int64\n"
     ]
    },
    {
     "data": {
      "text/plain": [
       "Text(0.5, 1.0, 'Top Two Scorers')"
      ]
     },
     "execution_count": 231,
     "metadata": {},
     "output_type": "execute_result"
    },
    {
     "data": {
      "image/png": "[encoded data removed]",
      "text/plain": [
       "<Figure size 640x480 with 1 Axes>"
      ]
     },
     "metadata": {},
     "output_type": "display_data"
    }
   ],
   "source": [
    "ipl.head()\n",
    "top_scorers = ipl.groupby('top_scorer')['highscore'].sum().sort_values(ascending=False).head(2)\n",
    "print(top_scorers)\n",
    "\n",
    "#plotting\n",
    "top_scorers.plot(kind='barh')\n",
    "plt.title(\"Top Two Scorers\")"
   ]
  },
  {
   "cell_type": "markdown",
   "id": "f4942529",
   "metadata": {},
   "source": [
    "#### 3. Ten Best Bowling Figures"
   ]
  },
  {
   "cell_type": "code",
   "execution_count": null,
   "id": "f2f2332f",
   "metadata": {},
   "outputs": [
    {
     "data": {
      "text/plain": [
       "Text(0.5, 1.0, 'Top Ten Bowling Figures')"
      ]
     },
     "execution_count": 232,
     "metadata": {},
     "output_type": "execute_result"
    },
    {
     "data": {
      "image/png": "[encoded data removed]",
      "text/plain": [
       "<Figure size 640x480 with 1 Axes>"
      ]
     },
     "metadata": {},
     "output_type": "display_data"
    }
   ],
   "source": [
    "ipl.head()\n",
    "ipl[\"highest_wickets\"] = ipl['best_bowling_figure'].apply(lambda x:x.split('--')[0])\n",
    "ipl[\"highest_wickets\"] = ipl['highest_wickets'].astype(int)\n",
    "top_bowlers = ipl.groupby(\"best_bowling\")['highest_wickets'].sum().sort_values(ascending=False).head(10)\n",
    "\n",
    "#plotting\n",
    "top_bowlers.plot(kind='barh')\n",
    "plt.title(\"Top Ten Bowling Figures\")"
   ]
  },
  {
   "cell_type": "markdown",
   "id": "36670027",
   "metadata": {},
   "source": [
    "## Venue Analysis"
   ]
  },
  {
   "cell_type": "markdown",
   "id": "4a9eaf2e",
   "metadata": {},
   "source": [
    "#### 1. Most matches played by Venue"
   ]
  },
  {
   "cell_type": "code",
   "execution_count": 233,
   "id": "ba69f091",
   "metadata": {},
   "outputs": [
    {
     "name": "stdout",
     "output_type": "stream",
     "text": [
      "venue\n",
      "Wankhede Stadium, Mumbai                        21\n",
      "Dr DY Patil Sports Academy, Mumbai              20\n",
      "Brabourne Stadium, Mumbai                       16\n",
      "Maharashtra Cricket Association Stadium,Pune    13\n",
      "Eden Gardens, Kolkata                            2\n",
      "Narendra Modi Stadium, Ahmedabad                 2\n",
      "Name: count, dtype: int64\n"
     ]
    },
    {
     "data": {
      "text/plain": [
       "Text(0.5, 1.0, 'Most matches played by Venue')"
      ]
     },
     "execution_count": 233,
     "metadata": {},
     "output_type": "execute_result"
    },
    {
     "data": {
      "image/png": "[encoded data removed]",
      "text/plain": [
       "<Figure size 640x480 with 1 Axes>"
      ]
     },
     "metadata": {},
     "output_type": "display_data"
    }
   ],
   "source": [
    "venue_count = ipl['venue'].value_counts()\n",
    "print(venue_count)\n",
    "sb.barplot(x = venue_count.values, y = venue_count.index)\n",
    "plt.title(\"Most matches played by Venue\")"
   ]
  },
  {
   "cell_type": "markdown",
   "id": "d326b165",
   "metadata": {},
   "source": [
    "## Custom Questions & Insights"
   ]
  },
  {
   "cell_type": "markdown",
   "id": "60c503a7",
   "metadata": {},
   "source": [
    "#### Q1. Who won the highest margin by runs?"
   ]
  },
  {
   "cell_type": "code",
   "execution_count": 213,
   "id": "8f0ab299",
   "metadata": {},
   "outputs": [
    {
     "data": {
      "text/html": [
       "<div>\n",
       "<style scoped>\n",
       "    .dataframe tbody tr th:only-of-type {\n",
       "        vertical-align: middle;\n",
       "    }\n",
       "\n",
       "    .dataframe tbody tr th {\n",
       "        vertical-align: top;\n",
       "    }\n",
       "\n",
       "    .dataframe thead th {\n",
       "        text-align: right;\n",
       "    }\n",
       "</style>\n",
       "<table border=\"1\" class=\"dataframe\">\n",
       "  <thead>\n",
       "    <tr style=\"text-align: right;\">\n",
       "      <th></th>\n",
       "      <th>match_winner</th>\n",
       "      <th>margin</th>\n",
       "    </tr>\n",
       "  </thead>\n",
       "  <tbody>\n",
       "    <tr>\n",
       "      <th>54</th>\n",
       "      <td>Chennai</td>\n",
       "      <td>91</td>\n",
       "    </tr>\n",
       "  </tbody>\n",
       "</table>\n",
       "</div>"
      ],
      "text/plain": [
       "   match_winner  margin\n",
       "54      Chennai      91"
      ]
     },
     "execution_count": 213,
     "metadata": {},
     "output_type": "execute_result"
    }
   ],
   "source": [
    "highest_margin_win = ipl[ipl['won_by']== 'Runs'].sort_values(by='margin',ascending=False).head(1)\n",
    "highest_margin_win[['match_winner','margin']]\n",
    "# print(\"Team with the highest margin win by runs\")\n",
    "# print(f\"Team: {highest_margin_win['match_winner'].iloc[0]} \\nMargin: {highest_margin_win['margin'].iloc[0]}\")\n"
   ]
  },
  {
   "cell_type": "markdown",
   "id": "c6136492",
   "metadata": {},
   "source": [
    "#### Q2. Which player had the highest individual score?"
   ]
  },
  {
   "cell_type": "code",
   "execution_count": 214,
   "id": "5c081f8f",
   "metadata": {},
   "outputs": [
    {
     "data": {
      "text/html": [
       "<div>\n",
       "<style scoped>\n",
       "    .dataframe tbody tr th:only-of-type {\n",
       "        vertical-align: middle;\n",
       "    }\n",
       "\n",
       "    .dataframe tbody tr th {\n",
       "        vertical-align: top;\n",
       "    }\n",
       "\n",
       "    .dataframe thead th {\n",
       "        text-align: right;\n",
       "    }\n",
       "</style>\n",
       "<table border=\"1\" class=\"dataframe\">\n",
       "  <thead>\n",
       "    <tr style=\"text-align: right;\">\n",
       "      <th></th>\n",
       "      <th>top_scorer</th>\n",
       "      <th>highscore</th>\n",
       "    </tr>\n",
       "  </thead>\n",
       "  <tbody>\n",
       "    <tr>\n",
       "      <th>65</th>\n",
       "      <td>Quinton de Kock</td>\n",
       "      <td>140</td>\n",
       "    </tr>\n",
       "  </tbody>\n",
       "</table>\n",
       "</div>"
      ],
      "text/plain": [
       "         top_scorer  highscore\n",
       "65  Quinton de Kock        140"
      ]
     },
     "execution_count": 214,
     "metadata": {},
     "output_type": "execute_result"
    }
   ],
   "source": [
    "ipl[ipl['highscore'] == ipl['highscore'].max()][['top_scorer','highscore']]"
   ]
  },
  {
   "cell_type": "markdown",
   "id": "52a54f8a",
   "metadata": {},
   "source": [
    "#### Q3. Which bowler had the best bowling figures?"
   ]
  },
  {
   "cell_type": "code",
   "execution_count": 215,
   "id": "04439393",
   "metadata": {},
   "outputs": [
    {
     "name": "stdout",
     "output_type": "stream",
     "text": [
      "Best bowler: Jasprit Bumrah  Figure: 5--10\n"
     ]
    }
   ],
   "source": [
    "ipl[\"Runs_conceded\"] = ipl['best_bowling_figure'].apply(lambda x:x.split('--')[1])\n",
    "\n",
    "ipl[\"Runs_conceded\"] = ipl['Runs_conceded'].astype(int)\n",
    "\n",
    "\n",
    "best_bowler = ipl.sort_values(by=['highest_wickets', 'Runs_conceded'], ascending=[False, True]).iloc[0]\n",
    "print(f\"Best bowler: {best_bowler['best_bowling']}  Figure: {best_bowler[\"best_bowling_figure\"]}\")"
   ]
  },
  {
   "cell_type": "code",
   "execution_count": 216,
   "id": "2bbab75e",
   "metadata": {},
   "outputs": [
    {
     "data": {
      "text/html": [
       "<div>\n",
       "<style scoped>\n",
       "    .dataframe tbody tr th:only-of-type {\n",
       "        vertical-align: middle;\n",
       "    }\n",
       "\n",
       "    .dataframe tbody tr th {\n",
       "        vertical-align: top;\n",
       "    }\n",
       "\n",
       "    .dataframe thead th {\n",
       "        text-align: right;\n",
       "    }\n",
       "</style>\n",
       "<table border=\"1\" class=\"dataframe\">\n",
       "  <thead>\n",
       "    <tr style=\"text-align: right;\">\n",
       "      <th></th>\n",
       "      <th>best_bowling</th>\n",
       "      <th>best_bowling_figure</th>\n",
       "    </tr>\n",
       "  </thead>\n",
       "  <tbody>\n",
       "    <tr>\n",
       "      <th>55</th>\n",
       "      <td>Jasprit Bumrah</td>\n",
       "      <td>5--10</td>\n",
       "    </tr>\n",
       "    <tr>\n",
       "      <th>53</th>\n",
       "      <td>Wanindu Hasaranga</td>\n",
       "      <td>5--18</td>\n",
       "    </tr>\n",
       "    <tr>\n",
       "      <th>39</th>\n",
       "      <td>Umran Malik</td>\n",
       "      <td>5--25</td>\n",
       "    </tr>\n",
       "  </tbody>\n",
       "</table>\n",
       "</div>"
      ],
      "text/plain": [
       "         best_bowling best_bowling_figure\n",
       "55     Jasprit Bumrah               5--10\n",
       "53  Wanindu Hasaranga               5--18\n",
       "39        Umran Malik               5--25"
      ]
     },
     "execution_count": 216,
     "metadata": {},
     "output_type": "execute_result"
    }
   ],
   "source": [
    "# top 3 best bowling figues:\n",
    "best_bowler = ipl.sort_values(by=['highest_wickets', 'Runs_conceded'], ascending=[False, True]).head(3)\n",
    "best_bowler[['best_bowling','best_bowling_figure']]"
   ]
  }
 ],
 "metadata": {
  "kernelspec": {
   "display_name": "venv",
   "language": "python",
   "name": "python3"
  },
  "language_info": {
   "codemirror_mode": {
    "name": "ipython",
    "version": 3
   },
   "file_extension": ".py",
   "mimetype": "text/x-python",
   "name": "python",
   "nbconvert_exporter": "python",
   "pygments_lexer": "ipython3",
   "version": "3.13.5"
  }
 },
 "nbformat": 4,
 "nbformat_minor": 5
}
